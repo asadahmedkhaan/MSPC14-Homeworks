{
 "cells": [
  {
   "cell_type": "code",
   "execution_count": null,
   "id": "5436a414-d073-468d-888f-2d4450f8b9db",
   "metadata": {},
   "outputs": [],
   "source": [
    "Homework:"
   ]
  },
  {
   "cell_type": "code",
   "execution_count": 6,
   "id": "48616872-56fb-498f-8a36-43831393ca77",
   "metadata": {},
   "outputs": [
    {
     "name": "stdout",
     "output_type": "stream",
     "text": [
      "Exercise 1: ['MANGO', 'KIWI', 'STRAWBERRY', 'GUAVA', 'PINEAPPLE', 'MANDARIN ORANGE']\n",
      "Exercise 2: ['Mango', 'Kiwi', 'Strawberry', 'Guava', 'Pineapple', 'Mandarin orange']\n",
      "Exercise 3: ['guava', 'pineapple', 'mandarin orange']\n",
      "Exercise 4: ['mango', 'kiwi', 'strawberry']\n",
      "Exercise 5: ['strawberry', 'pineapple', 'mandarin orange']\n",
      "Exercise 6: ['mango', 'guava']\n",
      "Exercise 7: ['kiwi']\n",
      "Exercise 8: [5, 4, 10, 5, 9, 15]\n",
      "Exercise 9: ['mango', 'strawberry', 'guava', 'pineapple', 'mandarin orange']\n",
      "Exercise 10: [2, 4, 6, 8, 10, 256, -8, -4, -2]\n",
      "Exercise 11: [3, 5, 7, 9, 11, 13, 17, 19, 23, 5, -9]\n",
      "Exercise 12: [2, 3, 4, 5, 6, 7, 8, 9, 10, 11, 13, 17, 19, 23, 256, 5]\n",
      "Exercise 13: [-8, -4, -2, -9]\n"
     ]
    }
   ],
   "source": [
    "fruits = ['mango', 'kiwi', 'strawberry', 'guava', 'pineapple', 'mandarin orange']\n",
    "numbers = [2, 3, 4, 5, 6, 7, 8, 9, 10, 11, 13, 17, 19, 23, 256, -8, -4, -2, 5, -9]\n",
    "\n",
    "# Exercise 1\n",
    "uppercased_fruits = [fruit.upper() for fruit in fruits]\n",
    "print(\"Exercise 1:\", uppercased_fruits)\n",
    "\n",
    "# Exercise 2\n",
    "capitalized_fruits = [fruit.capitalize() for fruit in fruits]\n",
    "print(\"Exercise 2:\", capitalized_fruits)\n",
    "\n",
    "# Exercise 3\n",
    "vowels = 'aeiou'\n",
    "fruits_with_more_than_two_vowels = [fruit for fruit in fruits if sum(1 for char in fruit.lower() if char in vowels) > 2]\n",
    "print(\"Exercise 3:\", fruits_with_more_than_two_vowels)\n",
    "\n",
    "# Exercise 4\n",
    "fruits_with_only_two_vowels = [fruit for fruit in fruits if sum(1 for char in fruit.lower() if char in vowels) == 2]\n",
    "print(\"Exercise 4:\", fruits_with_only_two_vowels)\n",
    "\n",
    "# Exercise 5\n",
    "fruits_with_more_than_five_characters = [fruit for fruit in fruits if len(fruit) > 5]\n",
    "print(\"Exercise 5:\", fruits_with_more_than_five_characters)\n",
    "\n",
    "# Exercise 6\n",
    "fruits_with_five_characters = [fruit for fruit in fruits if len(fruit) == 5]\n",
    "print(\"Exercise 6:\", fruits_with_five_characters)\n",
    "\n",
    "# Exercise 7\n",
    "fruits_with_less_than_five_characters = [fruit for fruit in fruits if len(fruit) < 5]\n",
    "print(\"Exercise 7:\", fruits_with_less_than_five_characters)\n",
    "\n",
    "# Exercise 8\n",
    "fruit_name_lengths = [len(fruit) for fruit in fruits]\n",
    "print(\"Exercise 8:\", fruit_name_lengths)\n",
    "\n",
    "# Exercise 9\n",
    "fruits_with_letter_a = [fruit for fruit in fruits if 'a' in fruit.lower()]\n",
    "print(\"Exercise 9:\", fruits_with_letter_a)\n",
    "\n",
    "# Exercise 10\n",
    "even_numbers = [number for number in numbers if number % 2 == 0]\n",
    "print(\"Exercise 10:\", even_numbers)\n",
    "\n",
    "# Exercise 11\n",
    "odd_numbers = [number for number in numbers if number % 2 != 0]\n",
    "print(\"Exercise 11:\", odd_numbers)\n",
    "\n",
    "# Exercise 12\n",
    "positive_numbers = [number for number in numbers if number > 0]\n",
    "print(\"Exercise 12:\", positive_numbers)\n",
    "\n",
    "# Exercise 13\n",
    "negative_numbers = [number for number in numbers if number < 0]\n",
    "print(\"Exercise 13:\", negative_numbers)\n"
   ]
  },
  {
   "cell_type": "code",
   "execution_count": null,
   "id": "c6dec7cb-0441-42e4-bdfd-f31e4d276eaa",
   "metadata": {},
   "outputs": [],
   "source": []
  }
 ],
 "metadata": {
  "kernelspec": {
   "display_name": "Python 3 (ipykernel)",
   "language": "python",
   "name": "python3"
  },
  "language_info": {
   "codemirror_mode": {
    "name": "ipython",
    "version": 3
   },
   "file_extension": ".py",
   "mimetype": "text/x-python",
   "name": "python",
   "nbconvert_exporter": "python",
   "pygments_lexer": "ipython3",
   "version": "3.13.2"
  }
 },
 "nbformat": 4,
 "nbformat_minor": 5
}
