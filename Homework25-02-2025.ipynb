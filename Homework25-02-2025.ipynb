{
 "cells": [
  {
   "cell_type": "code",
   "execution_count": null,
   "id": "1d149552-646f-41a1-b661-193723b34ad0",
   "metadata": {},
   "outputs": [],
   "source": [
    "Exercise 1:"
   ]
  },
  {
   "cell_type": "code",
   "execution_count": 3,
   "id": "1a024f7d-2982-4423-9955-f8ab4e588464",
   "metadata": {},
   "outputs": [
    {
     "name": "stdout",
     "output_type": "stream",
     "text": [
      "message:  augustom,augustomartin,23,approved\n",
      "message:  juliasch,juliaschmidt,67,rejected\n",
      "message:  kmarx,karlmarx,42,rejected\n"
     ]
    }
   ],
   "source": [
    "messages = [\n",
    "    \"https://database.com/user/augustom,AugUSto Martin, 23, Approved,,\",\n",
    "    \"https://database.com/user/juliasch,JuLIA SchmidT, 67, rejected,,\",\n",
    "    \"https://database.com/user/kmarx,Karl Marx, 42, rejected,,\"\n",
    "]\n",
    "\n",
    "for msg in messages:\n",
    "    parts = msg.strip(',').split(',')  # Remove trailing commas and split\n",
    "    username = parts[0].split('/')[-1]  # Extract \"augustom\" from the URL\n",
    "    full_name = parts[1].replace(' ', '').lower()  # \"AugUSto Martin\" -> \"augustomartin\"\n",
    "    age = parts[2].strip()\n",
    "    status = parts[3].strip().lower()\n",
    "    \n",
    "    formatted_msg = f\"message:  {username},{full_name},{age},{status}\"\n",
    "    print(formatted_msg)\n"
   ]
  },
  {
   "cell_type": "code",
   "execution_count": null,
   "id": "af2eda29-9966-404a-a419-376e271799c5",
   "metadata": {},
   "outputs": [],
   "source": [
    "Exercise:2"
   ]
  },
  {
   "cell_type": "code",
   "execution_count": 4,
   "id": "914538e8-d01f-42b2-affd-98a538803985",
   "metadata": {},
   "outputs": [
    {
     "name": "stdout",
     "output_type": "stream",
     "text": [
      "Diameter of circle: 9\n",
      "angle measure: 45\n",
      "Arc Length is: 3.5342917352885173\n"
     ]
    }
   ],
   "source": [
    "import math\n",
    "\n",
    "# Given values\n",
    "diameter = 9\n",
    "angle = 45\n",
    "\n",
    "# Calculate radius\n",
    "radius = diameter / 2\n",
    "\n",
    "# Arc length formula\n",
    "arc_length = 2 * math.pi * radius * (angle / 360)\n",
    "\n",
    "# Output\n",
    "print(\"Diameter of circle:\", diameter)\n",
    "print(\"angle measure:\", angle)\n",
    "print(\"Arc Length is:\", arc_length)\n"
   ]
  },
  {
   "cell_type": "code",
   "execution_count": null,
   "id": "532abf86-7855-435d-b5c2-64c2f07d4664",
   "metadata": {},
   "outputs": [],
   "source": []
  }
 ],
 "metadata": {
  "kernelspec": {
   "display_name": "Python 3 (ipykernel)",
   "language": "python",
   "name": "python3"
  },
  "language_info": {
   "codemirror_mode": {
    "name": "ipython",
    "version": 3
   },
   "file_extension": ".py",
   "mimetype": "text/x-python",
   "name": "python",
   "nbconvert_exporter": "python",
   "pygments_lexer": "ipython3",
   "version": "3.13.2"
  }
 },
 "nbformat": 4,
 "nbformat_minor": 5
}
