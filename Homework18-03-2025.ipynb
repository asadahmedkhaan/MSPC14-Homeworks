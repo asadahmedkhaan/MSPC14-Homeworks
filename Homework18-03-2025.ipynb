{
 "cells": [
  {
   "cell_type": "code",
   "execution_count": null,
   "id": "e78474c3-3da5-4a39-b10d-022b990a5a98",
   "metadata": {},
   "outputs": [],
   "source": [
    "Shopping Cart Task:"
   ]
  },
  {
   "cell_type": "code",
   "execution_count": 1,
   "id": "55065f36-64d5-452d-a248-59a63fd9832e",
   "metadata": {},
   "outputs": [
    {
     "name": "stdout",
     "output_type": "stream",
     "text": [
      "Shopping Cart:\n",
      "Apple - Quantity: 3 - Unit Price: $0.99\n",
      "Banana - Quantity: 1 - Unit Price: $0.59\n",
      "Milk - Quantity: 2 - Unit Price: $3.49\n",
      "Total: $10.54\n",
      "\n",
      "Shopping Cart:\n",
      "Apple - Quantity: 2 - Unit Price: $0.99\n",
      "Milk - Quantity: 2 - Unit Price: $3.49\n",
      "Total: $8.96\n",
      "\n",
      "Shopping Cart:\n",
      "Apple - Quantity: 2 - Unit Price: $0.99\n",
      "Total: $1.98\n",
      "\n"
     ]
    }
   ],
   "source": [
    "class Product:\n",
    "    def __init__(self, name, price):\n",
    "        self.name = name\n",
    "        self.price = price\n",
    "\n",
    "    def display_info(self):\n",
    "        print(f\"{self.name}: ${self.price:.2f}\")\n",
    "\n",
    "class ShoppingCart:\n",
    "    def __init__(self):\n",
    "        self.items = {}\n",
    "\n",
    "    def add_product(self, product, quantity=1):\n",
    "        if product.name in self.items:\n",
    "            self.items[product.name][\"quantity\"] += quantity\n",
    "        else:\n",
    "            self.items[product.name] = {\"product\": product, \"quantity\": quantity}\n",
    "\n",
    "    def remove_product(self, product, quantity=1):\n",
    "        if product.name in self.items:\n",
    "            self.items[product.name][\"quantity\"] -= quantity\n",
    "            if self.items[product.name][\"quantity\"] <= 0:\n",
    "                del self.items[product.name]\n",
    "\n",
    "    def calculate_total(self):\n",
    "        total = 0\n",
    "        for item in self.items.values():\n",
    "            total += item[\"product\"].price * item[\"quantity\"]\n",
    "        return total\n",
    "\n",
    "    def display_cart(self):\n",
    "        print(\"Shopping Cart:\")\n",
    "        for item in self.items.values():\n",
    "            product = item[\"product\"]\n",
    "            quantity = item[\"quantity\"]\n",
    "            print(f\"{product.name} - Quantity: {quantity} - Unit Price: ${product.price:.2f}\")\n",
    "        print(f\"Total: ${self.calculate_total():.2f}\")\n",
    "        print()\n",
    "\n",
    "apple = Product(\"Apple\", 0.99)\n",
    "banana = Product(\"Banana\", 0.59)\n",
    "milk = Product(\"Milk\", 3.49)\n",
    "\n",
    "cart = ShoppingCart()\n",
    "\n",
    "cart.add_product(apple, 3)\n",
    "cart.add_product(banana)\n",
    "cart.add_product(milk, 2)\n",
    "cart.display_cart()\n",
    "\n",
    "cart.remove_product(apple, 1)\n",
    "cart.remove_product(banana)\n",
    "cart.display_cart()\n",
    "\n",
    "cart.remove_product(milk, 5)\n",
    "cart.display_cart()\n"
   ]
  },
  {
   "cell_type": "code",
   "execution_count": null,
   "id": "91d87951-9196-4731-88fa-bde4377171d5",
   "metadata": {},
   "outputs": [],
   "source": []
  }
 ],
 "metadata": {
  "kernelspec": {
   "display_name": "Python 3 (ipykernel)",
   "language": "python",
   "name": "python3"
  },
  "language_info": {
   "codemirror_mode": {
    "name": "ipython",
    "version": 3
   },
   "file_extension": ".py",
   "mimetype": "text/x-python",
   "name": "python",
   "nbconvert_exporter": "python",
   "pygments_lexer": "ipython3",
   "version": "3.13.2"
  }
 },
 "nbformat": 4,
 "nbformat_minor": 5
}
