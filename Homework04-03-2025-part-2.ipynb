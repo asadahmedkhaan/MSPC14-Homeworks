{
 "cells": [
  {
   "cell_type": "code",
   "execution_count": 1,
   "id": "feeecf24-d961-4967-909e-b17be3cba1ea",
   "metadata": {},
   "outputs": [
    {
     "name": "stdout",
     "output_type": "stream",
     "text": [
      "[{'name': 'Alice', 'grades': [85, 90, 92], 'average': 89.0}, {'name': 'Bob', 'grades': [70, 80, 88], 'average': 79.33}, {'name': 'Charlie', 'grades': [93, 95, 97], 'average': 95.0}]\n"
     ]
    }
   ],
   "source": [
    "def process_students(students):\n",
    "    result = []\n",
    "    for student in students:\n",
    "        student['grades'].sort()\n",
    "        avg = sum(student['grades']) / len(student['grades'])\n",
    "        student['average'] = round(avg, 2)\n",
    "        result.append(student)\n",
    "    return result\n",
    "\n",
    "students = [\n",
    "    {'name': 'Alice', 'grades': [90, 85, 92]},\n",
    "    {'name': 'Bob', 'grades': [70, 88, 80]},\n",
    "    {'name': 'Charlie', 'grades': [95, 93, 97]}\n",
    "]\n",
    "\n",
    "print(process_students(students))\n"
   ]
  },
  {
   "cell_type": "code",
   "execution_count": null,
   "id": "c89973ac-99e2-407e-a1bd-3980d84b2f7e",
   "metadata": {},
   "outputs": [],
   "source": []
  }
 ],
 "metadata": {
  "kernelspec": {
   "display_name": "Python 3 (ipykernel)",
   "language": "python",
   "name": "python3"
  },
  "language_info": {
   "codemirror_mode": {
    "name": "ipython",
    "version": 3
   },
   "file_extension": ".py",
   "mimetype": "text/x-python",
   "name": "python",
   "nbconvert_exporter": "python",
   "pygments_lexer": "ipython3",
   "version": "3.13.2"
  }
 },
 "nbformat": 4,
 "nbformat_minor": 5
}
